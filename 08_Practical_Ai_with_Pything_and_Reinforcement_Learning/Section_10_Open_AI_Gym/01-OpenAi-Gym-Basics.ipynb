{
 "cells": [
  {
   "cell_type": "markdown",
   "id": "accessible-montana",
   "metadata": {},
   "source": [
    "# Open AI Gym Basics\n",
    "\n",
    "Let's explore the basics of a **gym** environment, later on we wil interact with it and create agents to learn from it."
   ]
  },
  {
   "cell_type": "markdown",
   "id": "opening-insurance",
   "metadata": {},
   "source": [
    "In this notebook we will get to know the open ai gym library and its environments:\n",
    "\n",
    "https://www.gymlibrary.ml/\n",
    "\n",
    "It contains various implementations of tasks on which you can try Reinforcement Learning agents. \n",
    "\n",
    "At first we will import the necessary environments"
   ]
  },
  {
   "cell_type": "code",
   "execution_count": 1,
   "id": "effective-clinic",
   "metadata": {},
   "outputs": [],
   "source": [
    "import time  # To slown down the game rendering to human speed\n",
    "import gym\n",
    "import matplotlib.pyplot as plt"
   ]
  },
  {
   "cell_type": "markdown",
   "id": "single-surname",
   "metadata": {},
   "source": [
    "Now we can go and chose an environment we want to try and where we want to train an agent on from here:<br />\n",
    "https://gym.openai.com/envs/\n",
    "\n",
    "Let's say we want to play the **breakout game** https://gym.openai.com/envs/Breakout-v0/, then we need to perform the following two steps:\n",
    "\n",
    "1. Define the name of the environment\n",
    "2. Create the environment"
   ]
  },
  {
   "cell_type": "code",
   "execution_count": 2,
   "id": "rental-benchmark",
   "metadata": {},
   "outputs": [
    {
     "name": "stderr",
     "output_type": "stream",
     "text": [
      "C:\\Users\\theGr\\anaconda3\\lib\\site-packages\\gym\\envs\\registration.py:505: UserWarning: \u001b[33mWARN: The environment Breakout-v0 is out of date. You should consider upgrading to version `v4` with the environment ID `Breakout-v4`.\u001b[0m\n",
      "  logger.warn(\n",
      "C:\\Users\\theGr\\anaconda3\\lib\\site-packages\\gym\\utils\\seeding.py:138: DeprecationWarning: \u001b[33mWARN: Function `hash_seed(seed, max_bytes)` is marked as deprecated and will be removed in the future. \u001b[0m\n",
      "  deprecation(\n",
      "C:\\Users\\theGr\\anaconda3\\lib\\site-packages\\gym\\utils\\seeding.py:175: DeprecationWarning: \u001b[33mWARN: Function `_bigint_from_bytes(bytes)` is marked as deprecated and will be removed in the future. \u001b[0m\n",
      "  deprecation(\n"
     ]
    },
    {
     "ename": "Error",
     "evalue": "We're Unable to find the game \"Breakout\". Note: Gym no longer distributes ROMs. If you own a license to use the necessary ROMs for research purposes you can download them via `pip install gym[accept-rom-license]`. Otherwise, you should try importing \"Breakout\" via the command `ale-import-roms`. If you believe this is a mistake perhaps your copy of \"Breakout\" is unsupported. To check if this is the case try providing the environment variable `PYTHONWARNINGS=default::ImportWarning:ale_py.roms`. For more information see: https://github.com/mgbellemare/Arcade-Learning-Environment#rom-management",
     "output_type": "error",
     "traceback": [
      "\u001b[1;31m---------------------------------------------------------------------------\u001b[0m",
      "\u001b[1;31mError\u001b[0m                                     Traceback (most recent call last)",
      "\u001b[1;32m~\\AppData\\Local\\Temp/ipykernel_58680/3394488681.py\u001b[0m in \u001b[0;36m<module>\u001b[1;34m\u001b[0m\n\u001b[0;32m      1\u001b[0m \u001b[0menv_name\u001b[0m \u001b[1;33m=\u001b[0m \u001b[1;34m\"Breakout-v0\"\u001b[0m  \u001b[1;31m# Use the exact same name as stated on gym.openai\u001b[0m\u001b[1;33m\u001b[0m\u001b[1;33m\u001b[0m\u001b[0m\n\u001b[1;32m----> 2\u001b[1;33m \u001b[0menv\u001b[0m \u001b[1;33m=\u001b[0m \u001b[0mgym\u001b[0m\u001b[1;33m.\u001b[0m\u001b[0mmake\u001b[0m\u001b[1;33m(\u001b[0m\u001b[0menv_name\u001b[0m\u001b[1;33m)\u001b[0m  \u001b[1;31m# use gym.make to create your environmen\u001b[0m\u001b[1;33m\u001b[0m\u001b[1;33m\u001b[0m\u001b[0m\n\u001b[0m\u001b[0;32m      3\u001b[0m \u001b[0mprint\u001b[0m\u001b[1;33m(\u001b[0m\u001b[1;34m'Done'\u001b[0m\u001b[1;33m)\u001b[0m\u001b[1;33m\u001b[0m\u001b[1;33m\u001b[0m\u001b[0m\n",
      "\u001b[1;32m~\\anaconda3\\lib\\site-packages\\gym\\envs\\registration.py\u001b[0m in \u001b[0;36mmake\u001b[1;34m(id, **kwargs)\u001b[0m\n\u001b[0;32m    674\u001b[0m \u001b[1;31m# fmt: on\u001b[0m\u001b[1;33m\u001b[0m\u001b[1;33m\u001b[0m\u001b[0m\n\u001b[0;32m    675\u001b[0m \u001b[1;32mdef\u001b[0m \u001b[0mmake\u001b[0m\u001b[1;33m(\u001b[0m\u001b[0mid\u001b[0m\u001b[1;33m:\u001b[0m \u001b[0mstr\u001b[0m\u001b[1;33m,\u001b[0m \u001b[1;33m**\u001b[0m\u001b[0mkwargs\u001b[0m\u001b[1;33m)\u001b[0m \u001b[1;33m->\u001b[0m \u001b[1;34m\"Env\"\u001b[0m\u001b[1;33m:\u001b[0m\u001b[1;33m\u001b[0m\u001b[1;33m\u001b[0m\u001b[0m\n\u001b[1;32m--> 676\u001b[1;33m     \u001b[1;32mreturn\u001b[0m \u001b[0mregistry\u001b[0m\u001b[1;33m.\u001b[0m\u001b[0mmake\u001b[0m\u001b[1;33m(\u001b[0m\u001b[0mid\u001b[0m\u001b[1;33m,\u001b[0m \u001b[1;33m**\u001b[0m\u001b[0mkwargs\u001b[0m\u001b[1;33m)\u001b[0m\u001b[1;33m\u001b[0m\u001b[1;33m\u001b[0m\u001b[0m\n\u001b[0m\u001b[0;32m    677\u001b[0m \u001b[1;33m\u001b[0m\u001b[0m\n\u001b[0;32m    678\u001b[0m \u001b[1;33m\u001b[0m\u001b[0m\n",
      "\u001b[1;32m~\\anaconda3\\lib\\site-packages\\gym\\envs\\registration.py\u001b[0m in \u001b[0;36mmake\u001b[1;34m(self, path, **kwargs)\u001b[0m\n\u001b[0;32m    518\u001b[0m         \u001b[0mspec\u001b[0m \u001b[1;33m=\u001b[0m \u001b[0mself\u001b[0m\u001b[1;33m.\u001b[0m\u001b[0mspec\u001b[0m\u001b[1;33m(\u001b[0m\u001b[0mpath\u001b[0m\u001b[1;33m)\u001b[0m\u001b[1;33m\u001b[0m\u001b[1;33m\u001b[0m\u001b[0m\n\u001b[0;32m    519\u001b[0m         \u001b[1;31m# Construct the environment\u001b[0m\u001b[1;33m\u001b[0m\u001b[1;33m\u001b[0m\u001b[0m\n\u001b[1;32m--> 520\u001b[1;33m         \u001b[1;32mreturn\u001b[0m \u001b[0mspec\u001b[0m\u001b[1;33m.\u001b[0m\u001b[0mmake\u001b[0m\u001b[1;33m(\u001b[0m\u001b[1;33m**\u001b[0m\u001b[0mkwargs\u001b[0m\u001b[1;33m)\u001b[0m\u001b[1;33m\u001b[0m\u001b[1;33m\u001b[0m\u001b[0m\n\u001b[0m\u001b[0;32m    521\u001b[0m \u001b[1;33m\u001b[0m\u001b[0m\n\u001b[0;32m    522\u001b[0m     \u001b[1;32mdef\u001b[0m \u001b[0mall\u001b[0m\u001b[1;33m(\u001b[0m\u001b[0mself\u001b[0m\u001b[1;33m)\u001b[0m\u001b[1;33m:\u001b[0m\u001b[1;33m\u001b[0m\u001b[1;33m\u001b[0m\u001b[0m\n",
      "\u001b[1;32m~\\anaconda3\\lib\\site-packages\\gym\\envs\\registration.py\u001b[0m in \u001b[0;36mmake\u001b[1;34m(self, **kwargs)\u001b[0m\n\u001b[0;32m    138\u001b[0m         \u001b[1;32melse\u001b[0m\u001b[1;33m:\u001b[0m\u001b[1;33m\u001b[0m\u001b[1;33m\u001b[0m\u001b[0m\n\u001b[0;32m    139\u001b[0m             \u001b[0mcls\u001b[0m \u001b[1;33m=\u001b[0m \u001b[0mload\u001b[0m\u001b[1;33m(\u001b[0m\u001b[0mself\u001b[0m\u001b[1;33m.\u001b[0m\u001b[0mentry_point\u001b[0m\u001b[1;33m)\u001b[0m\u001b[1;33m\u001b[0m\u001b[1;33m\u001b[0m\u001b[0m\n\u001b[1;32m--> 140\u001b[1;33m             \u001b[0menv\u001b[0m \u001b[1;33m=\u001b[0m \u001b[0mcls\u001b[0m\u001b[1;33m(\u001b[0m\u001b[1;33m**\u001b[0m\u001b[0m_kwargs\u001b[0m\u001b[1;33m)\u001b[0m\u001b[1;33m\u001b[0m\u001b[1;33m\u001b[0m\u001b[0m\n\u001b[0m\u001b[0;32m    141\u001b[0m \u001b[1;33m\u001b[0m\u001b[0m\n\u001b[0;32m    142\u001b[0m         \u001b[1;31m# Make the environment aware of which spec it came from.\u001b[0m\u001b[1;33m\u001b[0m\u001b[1;33m\u001b[0m\u001b[0m\n",
      "\u001b[1;32m~\\anaconda3\\lib\\site-packages\\gym\\envs\\atari\\environment.py\u001b[0m in \u001b[0;36m__init__\u001b[1;34m(self, game, mode, difficulty, obs_type, frameskip, repeat_action_probability, full_action_space, render_mode)\u001b[0m\n\u001b[0;32m    121\u001b[0m \u001b[1;33m\u001b[0m\u001b[0m\n\u001b[0;32m    122\u001b[0m         \u001b[1;31m# Seed + Load\u001b[0m\u001b[1;33m\u001b[0m\u001b[1;33m\u001b[0m\u001b[0m\n\u001b[1;32m--> 123\u001b[1;33m         \u001b[0mself\u001b[0m\u001b[1;33m.\u001b[0m\u001b[0mseed\u001b[0m\u001b[1;33m(\u001b[0m\u001b[1;33m)\u001b[0m\u001b[1;33m\u001b[0m\u001b[1;33m\u001b[0m\u001b[0m\n\u001b[0m\u001b[0;32m    124\u001b[0m \u001b[1;33m\u001b[0m\u001b[0m\n\u001b[0;32m    125\u001b[0m         self._action_set = (\n",
      "\u001b[1;32m~\\anaconda3\\lib\\site-packages\\gym\\envs\\atari\\environment.py\u001b[0m in \u001b[0;36mseed\u001b[1;34m(self, seed)\u001b[0m\n\u001b[0;32m    169\u001b[0m \u001b[1;33m\u001b[0m\u001b[0m\n\u001b[0;32m    170\u001b[0m         \u001b[1;32mif\u001b[0m \u001b[1;32mnot\u001b[0m \u001b[0mhasattr\u001b[0m\u001b[1;33m(\u001b[0m\u001b[0mroms\u001b[0m\u001b[1;33m,\u001b[0m \u001b[0mself\u001b[0m\u001b[1;33m.\u001b[0m\u001b[0m_game\u001b[0m\u001b[1;33m)\u001b[0m\u001b[1;33m:\u001b[0m\u001b[1;33m\u001b[0m\u001b[1;33m\u001b[0m\u001b[0m\n\u001b[1;32m--> 171\u001b[1;33m             raise error.Error(\n\u001b[0m\u001b[0;32m    172\u001b[0m                 \u001b[1;34mf'We\\'re Unable to find the game \"{self._game}\". Note: Gym no longer distributes ROMs. '\u001b[0m\u001b[1;33m\u001b[0m\u001b[1;33m\u001b[0m\u001b[0m\n\u001b[0;32m    173\u001b[0m                 \u001b[1;34mf\"If you own a license to use the necessary ROMs for research purposes you can download them \"\u001b[0m\u001b[1;33m\u001b[0m\u001b[1;33m\u001b[0m\u001b[0m\n",
      "\u001b[1;31mError\u001b[0m: We're Unable to find the game \"Breakout\". Note: Gym no longer distributes ROMs. If you own a license to use the necessary ROMs for research purposes you can download them via `pip install gym[accept-rom-license]`. Otherwise, you should try importing \"Breakout\" via the command `ale-import-roms`. If you believe this is a mistake perhaps your copy of \"Breakout\" is unsupported. To check if this is the case try providing the environment variable `PYTHONWARNINGS=default::ImportWarning:ale_py.roms`. For more information see: https://github.com/mgbellemare/Arcade-Learning-Environment#rom-management"
     ]
    }
   ],
   "source": [
    "env_name = \"Breakout-v0\"  # Use the exact same name as stated on gym.openai\n",
    "env = gym.make(env_name)  # use gym.make to create your environmen\n",
    "print('Done')"
   ]
  },
  {
   "cell_type": "markdown",
   "id": "oriented-pitch",
   "metadata": {},
   "source": [
    "Thats all! You successfully created the environment!<br />\n",
    "Those steps are identical for all environments.\n",
    "\n",
    "If you want to take a look at your game, gym comes with a handy utils function called **play** for Atari games.<br />\n",
    "Note that you start the game with *space* and move with *a* and *d*\n",
    "\n",
    "How many points can you score?"
   ]
  },
  {
   "cell_type": "code",
   "execution_count": 3,
   "id": "included-orlando",
   "metadata": {},
   "outputs": [
    {
     "ename": "ModuleNotFoundError",
     "evalue": "No module named 'pygame'",
     "output_type": "error",
     "traceback": [
      "\u001b[1;31m---------------------------------------------------------------------------\u001b[0m",
      "\u001b[1;31mModuleNotFoundError\u001b[0m                       Traceback (most recent call last)",
      "\u001b[1;32m~\\AppData\\Local\\Temp/ipykernel_47012/2010578149.py\u001b[0m in \u001b[0;36m<module>\u001b[1;34m\u001b[0m\n\u001b[1;32m----> 1\u001b[1;33m \u001b[1;32mfrom\u001b[0m \u001b[0mgym\u001b[0m\u001b[1;33m.\u001b[0m\u001b[0mutils\u001b[0m \u001b[1;32mimport\u001b[0m \u001b[0mplay\u001b[0m   \u001b[1;31m# import the play module\u001b[0m\u001b[1;33m\u001b[0m\u001b[1;33m\u001b[0m\u001b[0m\n\u001b[0m\u001b[0;32m      2\u001b[0m \u001b[0mplay\u001b[0m\u001b[1;33m.\u001b[0m\u001b[0mplay\u001b[0m\u001b[1;33m(\u001b[0m\u001b[0menv\u001b[0m\u001b[1;33m,\u001b[0m \u001b[0mzoom\u001b[0m\u001b[1;33m=\u001b[0m\u001b[1;36m2\u001b[0m\u001b[1;33m)\u001b[0m       \u001b[1;31m# call the play function\u001b[0m\u001b[1;33m\u001b[0m\u001b[1;33m\u001b[0m\u001b[0m\n",
      "\u001b[1;32m~\\miniconda3\\envs\\ml\\lib\\site-packages\\gym\\utils\\play.py\u001b[0m in \u001b[0;36m<module>\u001b[1;34m\u001b[0m\n\u001b[0;32m      1\u001b[0m \u001b[1;32mimport\u001b[0m \u001b[0mgym\u001b[0m\u001b[1;33m\u001b[0m\u001b[1;33m\u001b[0m\u001b[0m\n\u001b[1;32m----> 2\u001b[1;33m \u001b[1;32mimport\u001b[0m \u001b[0mpygame\u001b[0m\u001b[1;33m\u001b[0m\u001b[1;33m\u001b[0m\u001b[0m\n\u001b[0m\u001b[0;32m      3\u001b[0m \u001b[1;32mimport\u001b[0m \u001b[0mmatplotlib\u001b[0m\u001b[1;33m\u001b[0m\u001b[1;33m\u001b[0m\u001b[0m\n\u001b[0;32m      4\u001b[0m \u001b[1;32mimport\u001b[0m \u001b[0margparse\u001b[0m\u001b[1;33m\u001b[0m\u001b[1;33m\u001b[0m\u001b[0m\n\u001b[0;32m      5\u001b[0m \u001b[1;32mfrom\u001b[0m \u001b[0mgym\u001b[0m \u001b[1;32mimport\u001b[0m \u001b[0mlogger\u001b[0m\u001b[1;33m\u001b[0m\u001b[1;33m\u001b[0m\u001b[0m\n",
      "\u001b[1;31mModuleNotFoundError\u001b[0m: No module named 'pygame'"
     ]
    }
   ],
   "source": [
    "from gym.utils import play   # import the play module\n",
    "play.play(env, zoom=2)       # call the play function"
   ]
  },
  {
   "cell_type": "markdown",
   "id": "after-jackson",
   "metadata": {},
   "source": [
    "Now after getting to know how we can select an environment and interact with it, it is time to dive deeper into the world of gym.\n",
    "\n",
    "Gym offers us many functions to interact with the created environment. The most important are:\n",
    "\n",
    "* reset() - which resets the state of the environment to the initial state. I.e it restarts the game \n",
    "* step(action) - performs an action on your environment. In our case it either starts the game or moves to the left, right, or just remains at the current position. It returns the current state of the environment, the reward, if the game is done and some debugging information\n",
    "* render(mode) - Renders your environment and displays it on your monitor\n",
    "\n",
    "We will get to know those functions in the next few cells"
   ]
  },
  {
   "cell_type": "markdown",
   "id": "coral-corps",
   "metadata": {},
   "source": [
    "First we will take a look at the **render** function:<br />\n",
    "render(mode) takes one argument, namely the render *mode*. *mode* can take two possible values:\n",
    "* \"human\"\n",
    "* \"rgb_array\"\n",
    "\n",
    "\"human\" directly displays the game on your screen, while \"rgb_array\" returns the array containing the state of the current environment aka the image render shows us."
   ]
  },
  {
   "cell_type": "code",
   "execution_count": 5,
   "id": "alternate-wonder",
   "metadata": {},
   "outputs": [],
   "source": [
    "for _ in range(200):  # Run the environment for 200 steps\n",
    "    env.render(mode=\"human\")  # directly displays you the current state of the game"
   ]
  },
  {
   "cell_type": "code",
   "execution_count": 6,
   "id": "entitled-exclusive",
   "metadata": {},
   "outputs": [],
   "source": [
    "env.close()  # as render always opens a new window when called, it is important to close it again"
   ]
  },
  {
   "cell_type": "code",
   "execution_count": 8,
   "id": "acquired-escape",
   "metadata": {},
   "outputs": [
    {
     "name": "stdout",
     "output_type": "stream",
     "text": [
      "[200  72  72]\n"
     ]
    },
    {
     "data": {
      "text/plain": [
       "<matplotlib.image.AxesImage at 0x1d0ed381ca0>"
      ]
     },
     "execution_count": 8,
     "metadata": {},
     "output_type": "execute_result"
    }
   ],
   "source": [
    "array = env.render(mode=\"rgb_array\")  # returns the image as a 2d numpy array\n",
    "print(array[60][50])  # display the colour of some pixel (row 60 and column 50 - so the red blocks)\n",
    "\n",
    "plt.imshow(array)  # you can use matplotlib to take a look at your environment - it is the same image as above"
   ]
  },
  {
   "cell_type": "code",
   "execution_count": 4,
   "id": "b5323909",
   "metadata": {},
   "outputs": [
    {
     "data": {
      "text/plain": [
       "array([[[0, 0, 0],\n",
       "        [0, 0, 0],\n",
       "        [0, 0, 0],\n",
       "        ...,\n",
       "        [0, 0, 0],\n",
       "        [0, 0, 0],\n",
       "        [0, 0, 0]],\n",
       "\n",
       "       [[0, 0, 0],\n",
       "        [0, 0, 0],\n",
       "        [0, 0, 0],\n",
       "        ...,\n",
       "        [0, 0, 0],\n",
       "        [0, 0, 0],\n",
       "        [0, 0, 0]],\n",
       "\n",
       "       [[0, 0, 0],\n",
       "        [0, 0, 0],\n",
       "        [0, 0, 0],\n",
       "        ...,\n",
       "        [0, 0, 0],\n",
       "        [0, 0, 0],\n",
       "        [0, 0, 0]],\n",
       "\n",
       "       ...,\n",
       "\n",
       "       [[0, 0, 0],\n",
       "        [0, 0, 0],\n",
       "        [0, 0, 0],\n",
       "        ...,\n",
       "        [0, 0, 0],\n",
       "        [0, 0, 0],\n",
       "        [0, 0, 0]],\n",
       "\n",
       "       [[0, 0, 0],\n",
       "        [0, 0, 0],\n",
       "        [0, 0, 0],\n",
       "        ...,\n",
       "        [0, 0, 0],\n",
       "        [0, 0, 0],\n",
       "        [0, 0, 0]],\n",
       "\n",
       "       [[0, 0, 0],\n",
       "        [0, 0, 0],\n",
       "        [0, 0, 0],\n",
       "        ...,\n",
       "        [0, 0, 0],\n",
       "        [0, 0, 0],\n",
       "        [0, 0, 0]]], dtype=uint8)"
      ]
     },
     "execution_count": 4,
     "metadata": {},
     "output_type": "execute_result"
    }
   ],
   "source": [
    "array "
   ]
  },
  {
   "cell_type": "markdown",
   "id": "female-circular",
   "metadata": {},
   "source": [
    "Note that even we ran 1000 steps over the environment, nothing happened! <br />\n",
    "This is because no action was taken on this environment.\n",
    "\n",
    "This is the point where the **step** function joins our game. It performs a selected action on our environment, e.g moving to the left.\n",
    "\n",
    "You can take a look at the possible actions via the **action_space.n** property.\n",
    "It returns 4 for our game which is in line with our above findings that we can either start the game, move left or right, or stand still."
   ]
  },
  {
   "cell_type": "code",
   "execution_count": 8,
   "id": "based-huntington",
   "metadata": {},
   "outputs": [
    {
     "name": "stdout",
     "output_type": "stream",
     "text": [
      "There are 4 possible actions\n"
     ]
    }
   ],
   "source": [
    "print(f\"There are {env.action_space.n} possible actions\")"
   ]
  },
  {
   "cell_type": "markdown",
   "id": "ordered-mobile",
   "metadata": {},
   "source": [
    "Now it is time to watch some action happening. For this we can select a random possible action.\n",
    "We could do this by using **numpy.random.randint(0, 4)** or by using the provided sample function **env.action_space.sample()** which directly returns you a possible action.\n",
    "\n",
    "Note how the \"ale.lives\" info reduces for each live you lose"
   ]
  },
  {
   "cell_type": "code",
   "execution_count": 9,
   "id": "documented-algeria",
   "metadata": {},
   "outputs": [
    {
     "name": "stdout",
     "output_type": "stream",
     "text": [
      "Reward: 0.0, Done: False, Info: {'ale.lives': 5}\n",
      "Reward: 0.0, Done: False, Info: {'ale.lives': 5}\n",
      "Reward: 0.0, Done: False, Info: {'ale.lives': 5}\n",
      "Reward: 0.0, Done: False, Info: {'ale.lives': 5}\n",
      "Reward: 0.0, Done: False, Info: {'ale.lives': 5}\n",
      "Reward: 0.0, Done: False, Info: {'ale.lives': 5}\n",
      "Reward: 0.0, Done: False, Info: {'ale.lives': 5}\n",
      "Reward: 0.0, Done: False, Info: {'ale.lives': 5}\n",
      "Reward: 0.0, Done: False, Info: {'ale.lives': 5}\n",
      "Reward: 0.0, Done: False, Info: {'ale.lives': 5}\n",
      "Reward: 0.0, Done: False, Info: {'ale.lives': 5}\n",
      "Reward: 0.0, Done: False, Info: {'ale.lives': 5}\n",
      "Reward: 0.0, Done: False, Info: {'ale.lives': 5}\n",
      "Reward: 0.0, Done: False, Info: {'ale.lives': 5}\n",
      "Reward: 0.0, Done: False, Info: {'ale.lives': 5}\n",
      "Reward: 0.0, Done: False, Info: {'ale.lives': 5}\n",
      "Reward: 0.0, Done: False, Info: {'ale.lives': 5}\n",
      "Reward: 0.0, Done: False, Info: {'ale.lives': 5}\n",
      "Reward: 0.0, Done: False, Info: {'ale.lives': 5}\n",
      "Reward: 0.0, Done: False, Info: {'ale.lives': 5}\n",
      "Reward: 0.0, Done: False, Info: {'ale.lives': 5}\n",
      "Reward: 0.0, Done: False, Info: {'ale.lives': 5}\n",
      "Reward: 0.0, Done: False, Info: {'ale.lives': 5}\n",
      "Reward: 0.0, Done: False, Info: {'ale.lives': 5}\n",
      "Reward: 0.0, Done: False, Info: {'ale.lives': 5}\n",
      "Reward: 0.0, Done: False, Info: {'ale.lives': 5}\n",
      "Reward: 0.0, Done: False, Info: {'ale.lives': 5}\n",
      "Reward: 0.0, Done: False, Info: {'ale.lives': 5}\n",
      "Reward: 0.0, Done: False, Info: {'ale.lives': 5}\n",
      "Reward: 0.0, Done: False, Info: {'ale.lives': 5}\n",
      "Reward: 0.0, Done: False, Info: {'ale.lives': 5}\n",
      "Reward: 0.0, Done: False, Info: {'ale.lives': 5}\n",
      "Reward: 0.0, Done: False, Info: {'ale.lives': 5}\n",
      "Reward: 0.0, Done: False, Info: {'ale.lives': 5}\n",
      "Reward: 0.0, Done: False, Info: {'ale.lives': 5}\n",
      "Reward: 0.0, Done: False, Info: {'ale.lives': 5}\n",
      "Reward: 0.0, Done: False, Info: {'ale.lives': 5}\n",
      "Reward: 0.0, Done: False, Info: {'ale.lives': 5}\n",
      "Reward: 0.0, Done: False, Info: {'ale.lives': 5}\n",
      "Reward: 0.0, Done: False, Info: {'ale.lives': 5}\n",
      "Reward: 0.0, Done: False, Info: {'ale.lives': 5}\n",
      "Reward: 0.0, Done: False, Info: {'ale.lives': 5}\n",
      "Reward: 0.0, Done: False, Info: {'ale.lives': 4}\n",
      "Reward: 0.0, Done: False, Info: {'ale.lives': 4}\n",
      "Reward: 0.0, Done: False, Info: {'ale.lives': 4}\n",
      "Reward: 0.0, Done: False, Info: {'ale.lives': 4}\n",
      "Reward: 0.0, Done: False, Info: {'ale.lives': 4}\n",
      "Reward: 0.0, Done: False, Info: {'ale.lives': 4}\n",
      "Reward: 0.0, Done: False, Info: {'ale.lives': 4}\n",
      "Reward: 0.0, Done: False, Info: {'ale.lives': 4}\n",
      "Reward: 0.0, Done: False, Info: {'ale.lives': 4}\n",
      "Reward: 0.0, Done: False, Info: {'ale.lives': 4}\n",
      "Reward: 0.0, Done: False, Info: {'ale.lives': 4}\n",
      "Reward: 0.0, Done: False, Info: {'ale.lives': 4}\n",
      "Reward: 0.0, Done: False, Info: {'ale.lives': 4}\n",
      "Reward: 0.0, Done: False, Info: {'ale.lives': 4}\n",
      "Reward: 0.0, Done: False, Info: {'ale.lives': 4}\n",
      "Reward: 0.0, Done: False, Info: {'ale.lives': 4}\n",
      "Reward: 0.0, Done: False, Info: {'ale.lives': 4}\n",
      "Reward: 0.0, Done: False, Info: {'ale.lives': 4}\n",
      "Reward: 0.0, Done: False, Info: {'ale.lives': 4}\n",
      "Reward: 0.0, Done: False, Info: {'ale.lives': 4}\n",
      "Reward: 0.0, Done: False, Info: {'ale.lives': 4}\n",
      "Reward: 0.0, Done: False, Info: {'ale.lives': 4}\n",
      "Reward: 0.0, Done: False, Info: {'ale.lives': 4}\n",
      "Reward: 0.0, Done: False, Info: {'ale.lives': 4}\n",
      "Reward: 0.0, Done: False, Info: {'ale.lives': 4}\n",
      "Reward: 0.0, Done: False, Info: {'ale.lives': 4}\n",
      "Reward: 0.0, Done: False, Info: {'ale.lives': 4}\n",
      "Reward: 0.0, Done: False, Info: {'ale.lives': 4}\n",
      "Reward: 0.0, Done: False, Info: {'ale.lives': 4}\n",
      "Reward: 0.0, Done: False, Info: {'ale.lives': 4}\n",
      "Reward: 0.0, Done: False, Info: {'ale.lives': 4}\n",
      "Reward: 0.0, Done: False, Info: {'ale.lives': 4}\n",
      "Reward: 0.0, Done: False, Info: {'ale.lives': 4}\n",
      "Reward: 0.0, Done: False, Info: {'ale.lives': 4}\n",
      "Reward: 0.0, Done: False, Info: {'ale.lives': 3}\n",
      "Reward: 0.0, Done: False, Info: {'ale.lives': 3}\n",
      "Reward: 0.0, Done: False, Info: {'ale.lives': 3}\n",
      "Reward: 0.0, Done: False, Info: {'ale.lives': 3}\n",
      "Reward: 0.0, Done: False, Info: {'ale.lives': 3}\n",
      "Reward: 0.0, Done: False, Info: {'ale.lives': 3}\n",
      "Reward: 0.0, Done: False, Info: {'ale.lives': 3}\n",
      "Reward: 0.0, Done: False, Info: {'ale.lives': 3}\n",
      "Reward: 0.0, Done: False, Info: {'ale.lives': 3}\n",
      "Reward: 0.0, Done: False, Info: {'ale.lives': 3}\n",
      "Reward: 0.0, Done: False, Info: {'ale.lives': 3}\n",
      "Reward: 0.0, Done: False, Info: {'ale.lives': 3}\n",
      "Reward: 0.0, Done: False, Info: {'ale.lives': 3}\n",
      "Reward: 0.0, Done: False, Info: {'ale.lives': 3}\n",
      "Reward: 0.0, Done: False, Info: {'ale.lives': 3}\n",
      "Reward: 0.0, Done: False, Info: {'ale.lives': 3}\n",
      "Reward: 0.0, Done: False, Info: {'ale.lives': 3}\n",
      "Reward: 0.0, Done: False, Info: {'ale.lives': 3}\n",
      "Reward: 0.0, Done: False, Info: {'ale.lives': 3}\n",
      "Reward: 0.0, Done: False, Info: {'ale.lives': 3}\n",
      "Reward: 0.0, Done: False, Info: {'ale.lives': 3}\n",
      "Reward: 0.0, Done: False, Info: {'ale.lives': 3}\n",
      "Reward: 0.0, Done: False, Info: {'ale.lives': 3}\n",
      "Reward: 0.0, Done: False, Info: {'ale.lives': 3}\n",
      "Reward: 0.0, Done: False, Info: {'ale.lives': 3}\n",
      "Reward: 0.0, Done: False, Info: {'ale.lives': 3}\n",
      "Reward: 0.0, Done: False, Info: {'ale.lives': 3}\n",
      "Reward: 0.0, Done: False, Info: {'ale.lives': 3}\n",
      "Reward: 0.0, Done: False, Info: {'ale.lives': 3}\n",
      "Reward: 0.0, Done: False, Info: {'ale.lives': 3}\n",
      "Reward: 0.0, Done: False, Info: {'ale.lives': 3}\n",
      "Reward: 0.0, Done: False, Info: {'ale.lives': 3}\n",
      "Reward: 0.0, Done: False, Info: {'ale.lives': 3}\n",
      "Reward: 0.0, Done: False, Info: {'ale.lives': 3}\n",
      "Reward: 0.0, Done: False, Info: {'ale.lives': 3}\n",
      "Reward: 0.0, Done: False, Info: {'ale.lives': 2}\n",
      "Reward: 0.0, Done: False, Info: {'ale.lives': 2}\n",
      "Reward: 0.0, Done: False, Info: {'ale.lives': 2}\n",
      "Reward: 0.0, Done: False, Info: {'ale.lives': 2}\n",
      "Reward: 0.0, Done: False, Info: {'ale.lives': 2}\n",
      "Reward: 0.0, Done: False, Info: {'ale.lives': 2}\n",
      "Reward: 0.0, Done: False, Info: {'ale.lives': 2}\n",
      "Reward: 0.0, Done: False, Info: {'ale.lives': 2}\n",
      "Reward: 0.0, Done: False, Info: {'ale.lives': 2}\n",
      "Reward: 0.0, Done: False, Info: {'ale.lives': 2}\n",
      "Reward: 0.0, Done: False, Info: {'ale.lives': 2}\n",
      "Reward: 0.0, Done: False, Info: {'ale.lives': 2}\n",
      "Reward: 0.0, Done: False, Info: {'ale.lives': 2}\n",
      "Reward: 0.0, Done: False, Info: {'ale.lives': 2}\n",
      "Reward: 0.0, Done: False, Info: {'ale.lives': 2}\n",
      "Reward: 0.0, Done: False, Info: {'ale.lives': 2}\n",
      "Reward: 0.0, Done: False, Info: {'ale.lives': 2}\n",
      "Reward: 0.0, Done: False, Info: {'ale.lives': 2}\n",
      "Reward: 0.0, Done: False, Info: {'ale.lives': 2}\n",
      "Reward: 0.0, Done: False, Info: {'ale.lives': 2}\n",
      "Reward: 0.0, Done: False, Info: {'ale.lives': 2}\n",
      "Reward: 0.0, Done: False, Info: {'ale.lives': 2}\n",
      "Reward: 0.0, Done: False, Info: {'ale.lives': 2}\n",
      "Reward: 0.0, Done: False, Info: {'ale.lives': 2}\n",
      "Reward: 0.0, Done: False, Info: {'ale.lives': 2}\n",
      "Reward: 0.0, Done: False, Info: {'ale.lives': 2}\n",
      "Reward: 0.0, Done: False, Info: {'ale.lives': 2}\n",
      "Reward: 0.0, Done: False, Info: {'ale.lives': 2}\n",
      "Reward: 0.0, Done: False, Info: {'ale.lives': 2}\n",
      "Reward: 0.0, Done: False, Info: {'ale.lives': 2}\n",
      "Reward: 0.0, Done: False, Info: {'ale.lives': 2}\n",
      "Reward: 0.0, Done: False, Info: {'ale.lives': 2}\n",
      "Reward: 0.0, Done: False, Info: {'ale.lives': 2}\n",
      "Reward: 0.0, Done: False, Info: {'ale.lives': 1}\n",
      "Reward: 0.0, Done: False, Info: {'ale.lives': 1}\n",
      "Reward: 0.0, Done: False, Info: {'ale.lives': 1}\n",
      "Reward: 0.0, Done: False, Info: {'ale.lives': 1}\n",
      "Reward: 0.0, Done: False, Info: {'ale.lives': 1}\n",
      "Reward: 0.0, Done: False, Info: {'ale.lives': 1}\n",
      "Reward: 0.0, Done: False, Info: {'ale.lives': 1}\n",
      "Reward: 0.0, Done: False, Info: {'ale.lives': 1}\n",
      "Reward: 0.0, Done: False, Info: {'ale.lives': 1}\n",
      "Reward: 0.0, Done: False, Info: {'ale.lives': 1}\n",
      "Reward: 0.0, Done: False, Info: {'ale.lives': 1}\n",
      "Reward: 0.0, Done: False, Info: {'ale.lives': 1}\n",
      "Reward: 0.0, Done: False, Info: {'ale.lives': 1}\n",
      "Reward: 0.0, Done: False, Info: {'ale.lives': 1}\n",
      "Reward: 0.0, Done: False, Info: {'ale.lives': 1}\n",
      "Reward: 0.0, Done: False, Info: {'ale.lives': 1}\n",
      "Reward: 0.0, Done: False, Info: {'ale.lives': 1}\n",
      "Reward: 0.0, Done: False, Info: {'ale.lives': 1}\n",
      "Reward: 0.0, Done: False, Info: {'ale.lives': 1}\n",
      "Reward: 0.0, Done: False, Info: {'ale.lives': 1}\n",
      "Reward: 0.0, Done: False, Info: {'ale.lives': 1}\n",
      "Reward: 0.0, Done: False, Info: {'ale.lives': 1}\n",
      "Reward: 0.0, Done: False, Info: {'ale.lives': 1}\n",
      "Reward: 0.0, Done: False, Info: {'ale.lives': 1}\n",
      "Reward: 0.0, Done: False, Info: {'ale.lives': 1}\n",
      "Reward: 0.0, Done: False, Info: {'ale.lives': 1}\n",
      "Reward: 0.0, Done: False, Info: {'ale.lives': 1}\n",
      "Reward: 0.0, Done: False, Info: {'ale.lives': 1}\n",
      "Reward: 0.0, Done: False, Info: {'ale.lives': 1}\n",
      "Reward: 0.0, Done: False, Info: {'ale.lives': 1}\n"
     ]
    },
    {
     "name": "stdout",
     "output_type": "stream",
     "text": [
      "Reward: 0.0, Done: False, Info: {'ale.lives': 1}\n",
      "Reward: 0.0, Done: False, Info: {'ale.lives': 1}\n",
      "Reward: 0.0, Done: False, Info: {'ale.lives': 1}\n",
      "Reward: 0.0, Done: False, Info: {'ale.lives': 1}\n",
      "Reward: 0.0, Done: False, Info: {'ale.lives': 1}\n",
      "Reward: 0.0, Done: True, Info: {'ale.lives': 0}\n",
      "Reward: 0.0, Done: True, Info: {'ale.lives': 0}\n",
      "Reward: 0.0, Done: True, Info: {'ale.lives': 0}\n",
      "Reward: 0.0, Done: True, Info: {'ale.lives': 0}\n",
      "Reward: 0.0, Done: True, Info: {'ale.lives': 0}\n",
      "Reward: 0.0, Done: True, Info: {'ale.lives': 0}\n",
      "Reward: 0.0, Done: True, Info: {'ale.lives': 0}\n",
      "Reward: 0.0, Done: True, Info: {'ale.lives': 0}\n",
      "Reward: 0.0, Done: True, Info: {'ale.lives': 0}\n",
      "Reward: 0.0, Done: True, Info: {'ale.lives': 0}\n",
      "Reward: 0.0, Done: True, Info: {'ale.lives': 0}\n",
      "Reward: 0.0, Done: True, Info: {'ale.lives': 0}\n",
      "Reward: 0.0, Done: True, Info: {'ale.lives': 0}\n",
      "Reward: 0.0, Done: True, Info: {'ale.lives': 0}\n",
      "Reward: 0.0, Done: True, Info: {'ale.lives': 0}\n",
      "Reward: 0.0, Done: True, Info: {'ale.lives': 0}\n",
      "Reward: 0.0, Done: True, Info: {'ale.lives': 0}\n",
      "Reward: 0.0, Done: True, Info: {'ale.lives': 0}\n",
      "Reward: 0.0, Done: True, Info: {'ale.lives': 0}\n",
      "Reward: 0.0, Done: True, Info: {'ale.lives': 0}\n",
      "Reward: 0.0, Done: True, Info: {'ale.lives': 0}\n"
     ]
    }
   ],
   "source": [
    "for _ in range(200):\n",
    "    env.render(mode=\"human\")  # display the current state\n",
    "    random_action = env.action_space.sample()  # get the random action\n",
    "    observation, reward, done, info = env.step(random_action) # perform the action the current state of the environment\n",
    "    print(f\"Reward: {reward}, Done: {done}, Info: {info}\")\n",
    "    time.sleep(0.01)  # slow down the game a bit\n",
    "env.close()  # dont forget to close the environment"
   ]
  },
  {
   "cell_type": "markdown",
   "id": "manual-amount",
   "metadata": {},
   "source": [
    "If we would now again render the environment, we continue at the same stage we left - thus to start again we need to call the **reset** function.\n",
    "The reset function returns the initial state of the environment."
   ]
  },
  {
   "cell_type": "code",
   "execution_count": 18,
   "id": "electric-reminder",
   "metadata": {},
   "outputs": [
    {
     "data": {
      "text/plain": [
       "True"
      ]
     },
     "execution_count": 18,
     "metadata": {},
     "output_type": "execute_result"
    }
   ],
   "source": [
    "env.render()  # Old state of the game"
   ]
  },
  {
   "cell_type": "code",
   "execution_count": 19,
   "id": "manual-delta",
   "metadata": {},
   "outputs": [],
   "source": [
    "env.close()\n",
    "state = env.reset()"
   ]
  },
  {
   "cell_type": "markdown",
   "id": "destroyed-approval",
   "metadata": {},
   "source": [
    "Now we can again take a look at the game"
   ]
  },
  {
   "cell_type": "code",
   "execution_count": 12,
   "id": "induced-estate",
   "metadata": {
    "scrolled": true
   },
   "outputs": [
    {
     "name": "stdout",
     "output_type": "stream",
     "text": [
      "Reward: 0.0, Done: False, Info: {'ale.lives': 5}\n",
      "Reward: 0.0, Done: False, Info: {'ale.lives': 5}\n",
      "Reward: 0.0, Done: False, Info: {'ale.lives': 5}\n",
      "Reward: 0.0, Done: False, Info: {'ale.lives': 5}\n",
      "Reward: 0.0, Done: False, Info: {'ale.lives': 5}\n",
      "Reward: 0.0, Done: False, Info: {'ale.lives': 5}\n",
      "Reward: 0.0, Done: False, Info: {'ale.lives': 5}\n",
      "Reward: 0.0, Done: False, Info: {'ale.lives': 5}\n",
      "Reward: 0.0, Done: False, Info: {'ale.lives': 5}\n",
      "Reward: 0.0, Done: False, Info: {'ale.lives': 5}\n",
      "Reward: 0.0, Done: False, Info: {'ale.lives': 5}\n",
      "Reward: 0.0, Done: False, Info: {'ale.lives': 5}\n",
      "Reward: 0.0, Done: False, Info: {'ale.lives': 5}\n",
      "Reward: 0.0, Done: False, Info: {'ale.lives': 5}\n",
      "Reward: 0.0, Done: False, Info: {'ale.lives': 5}\n",
      "Reward: 0.0, Done: False, Info: {'ale.lives': 5}\n",
      "Reward: 0.0, Done: False, Info: {'ale.lives': 5}\n",
      "Reward: 0.0, Done: False, Info: {'ale.lives': 5}\n",
      "Reward: 0.0, Done: False, Info: {'ale.lives': 5}\n",
      "Reward: 0.0, Done: False, Info: {'ale.lives': 5}\n",
      "Reward: 0.0, Done: False, Info: {'ale.lives': 5}\n",
      "Reward: 0.0, Done: False, Info: {'ale.lives': 5}\n",
      "Reward: 0.0, Done: False, Info: {'ale.lives': 5}\n",
      "Reward: 0.0, Done: False, Info: {'ale.lives': 5}\n",
      "Reward: 0.0, Done: False, Info: {'ale.lives': 5}\n",
      "Reward: 0.0, Done: False, Info: {'ale.lives': 5}\n",
      "Reward: 0.0, Done: False, Info: {'ale.lives': 5}\n",
      "Reward: 0.0, Done: False, Info: {'ale.lives': 5}\n",
      "Reward: 0.0, Done: False, Info: {'ale.lives': 5}\n",
      "Reward: 0.0, Done: False, Info: {'ale.lives': 5}\n",
      "Reward: 0.0, Done: False, Info: {'ale.lives': 5}\n",
      "Reward: 0.0, Done: False, Info: {'ale.lives': 5}\n",
      "Reward: 0.0, Done: False, Info: {'ale.lives': 5}\n",
      "Reward: 0.0, Done: False, Info: {'ale.lives': 4}\n",
      "Reward: 0.0, Done: False, Info: {'ale.lives': 4}\n",
      "Reward: 0.0, Done: False, Info: {'ale.lives': 4}\n",
      "Reward: 0.0, Done: False, Info: {'ale.lives': 4}\n",
      "Reward: 0.0, Done: False, Info: {'ale.lives': 4}\n",
      "Reward: 0.0, Done: False, Info: {'ale.lives': 4}\n",
      "Reward: 0.0, Done: False, Info: {'ale.lives': 4}\n",
      "Reward: 0.0, Done: False, Info: {'ale.lives': 4}\n",
      "Reward: 0.0, Done: False, Info: {'ale.lives': 4}\n",
      "Reward: 0.0, Done: False, Info: {'ale.lives': 4}\n",
      "Reward: 0.0, Done: False, Info: {'ale.lives': 4}\n",
      "Reward: 0.0, Done: False, Info: {'ale.lives': 4}\n",
      "Reward: 0.0, Done: False, Info: {'ale.lives': 4}\n",
      "Reward: 0.0, Done: False, Info: {'ale.lives': 4}\n",
      "Reward: 0.0, Done: False, Info: {'ale.lives': 4}\n",
      "Reward: 0.0, Done: False, Info: {'ale.lives': 4}\n",
      "Reward: 0.0, Done: False, Info: {'ale.lives': 4}\n",
      "Reward: 0.0, Done: False, Info: {'ale.lives': 4}\n",
      "Reward: 0.0, Done: False, Info: {'ale.lives': 4}\n",
      "Reward: 0.0, Done: False, Info: {'ale.lives': 4}\n",
      "Reward: 0.0, Done: False, Info: {'ale.lives': 4}\n",
      "Reward: 0.0, Done: False, Info: {'ale.lives': 4}\n",
      "Reward: 0.0, Done: False, Info: {'ale.lives': 4}\n",
      "Reward: 0.0, Done: False, Info: {'ale.lives': 4}\n",
      "Reward: 0.0, Done: False, Info: {'ale.lives': 4}\n",
      "Reward: 0.0, Done: False, Info: {'ale.lives': 4}\n",
      "Reward: 0.0, Done: False, Info: {'ale.lives': 4}\n",
      "Reward: 0.0, Done: False, Info: {'ale.lives': 4}\n",
      "Reward: 0.0, Done: False, Info: {'ale.lives': 4}\n",
      "Reward: 0.0, Done: False, Info: {'ale.lives': 4}\n",
      "Reward: 0.0, Done: False, Info: {'ale.lives': 4}\n",
      "Reward: 0.0, Done: False, Info: {'ale.lives': 4}\n",
      "Reward: 0.0, Done: False, Info: {'ale.lives': 4}\n",
      "Reward: 0.0, Done: False, Info: {'ale.lives': 4}\n",
      "Reward: 0.0, Done: False, Info: {'ale.lives': 4}\n",
      "Reward: 0.0, Done: False, Info: {'ale.lives': 4}\n",
      "Reward: 0.0, Done: False, Info: {'ale.lives': 4}\n",
      "Reward: 0.0, Done: False, Info: {'ale.lives': 4}\n",
      "Reward: 0.0, Done: False, Info: {'ale.lives': 4}\n",
      "Reward: 0.0, Done: False, Info: {'ale.lives': 4}\n",
      "Reward: 0.0, Done: False, Info: {'ale.lives': 4}\n",
      "Reward: 0.0, Done: False, Info: {'ale.lives': 4}\n",
      "Reward: 0.0, Done: False, Info: {'ale.lives': 4}\n",
      "Reward: 0.0, Done: False, Info: {'ale.lives': 4}\n",
      "Reward: 0.0, Done: False, Info: {'ale.lives': 4}\n",
      "Reward: 0.0, Done: False, Info: {'ale.lives': 4}\n",
      "Reward: 0.0, Done: False, Info: {'ale.lives': 4}\n",
      "Reward: 0.0, Done: False, Info: {'ale.lives': 4}\n",
      "Reward: 0.0, Done: False, Info: {'ale.lives': 4}\n",
      "Reward: 0.0, Done: False, Info: {'ale.lives': 4}\n",
      "Reward: 0.0, Done: False, Info: {'ale.lives': 4}\n",
      "Reward: 0.0, Done: False, Info: {'ale.lives': 4}\n",
      "Reward: 0.0, Done: False, Info: {'ale.lives': 4}\n",
      "Reward: 0.0, Done: False, Info: {'ale.lives': 4}\n",
      "Reward: 0.0, Done: False, Info: {'ale.lives': 4}\n",
      "Reward: 0.0, Done: False, Info: {'ale.lives': 4}\n",
      "Reward: 0.0, Done: False, Info: {'ale.lives': 4}\n",
      "Reward: 0.0, Done: False, Info: {'ale.lives': 4}\n",
      "Reward: 0.0, Done: False, Info: {'ale.lives': 4}\n",
      "Reward: 0.0, Done: False, Info: {'ale.lives': 4}\n",
      "Reward: 0.0, Done: False, Info: {'ale.lives': 4}\n",
      "Reward: 0.0, Done: False, Info: {'ale.lives': 4}\n",
      "Reward: 0.0, Done: False, Info: {'ale.lives': 4}\n",
      "Reward: 0.0, Done: False, Info: {'ale.lives': 4}\n",
      "Reward: 0.0, Done: False, Info: {'ale.lives': 4}\n",
      "Reward: 0.0, Done: False, Info: {'ale.lives': 4}\n",
      "Reward: 0.0, Done: False, Info: {'ale.lives': 4}\n",
      "Reward: 0.0, Done: False, Info: {'ale.lives': 4}\n",
      "Reward: 0.0, Done: False, Info: {'ale.lives': 4}\n",
      "Reward: 0.0, Done: False, Info: {'ale.lives': 4}\n",
      "Reward: 1.0, Done: False, Info: {'ale.lives': 4}\n",
      "Reward: 0.0, Done: False, Info: {'ale.lives': 4}\n",
      "Reward: 0.0, Done: False, Info: {'ale.lives': 4}\n",
      "Reward: 0.0, Done: False, Info: {'ale.lives': 4}\n",
      "Reward: 0.0, Done: False, Info: {'ale.lives': 4}\n",
      "Reward: 0.0, Done: False, Info: {'ale.lives': 4}\n",
      "Reward: 0.0, Done: False, Info: {'ale.lives': 4}\n",
      "Reward: 0.0, Done: False, Info: {'ale.lives': 4}\n",
      "Reward: 0.0, Done: False, Info: {'ale.lives': 4}\n",
      "Reward: 0.0, Done: False, Info: {'ale.lives': 4}\n",
      "Reward: 0.0, Done: False, Info: {'ale.lives': 4}\n",
      "Reward: 0.0, Done: False, Info: {'ale.lives': 4}\n",
      "Reward: 0.0, Done: False, Info: {'ale.lives': 4}\n",
      "Reward: 0.0, Done: False, Info: {'ale.lives': 4}\n",
      "Reward: 0.0, Done: False, Info: {'ale.lives': 4}\n",
      "Reward: 0.0, Done: False, Info: {'ale.lives': 4}\n",
      "Reward: 0.0, Done: False, Info: {'ale.lives': 4}\n",
      "Reward: 0.0, Done: False, Info: {'ale.lives': 4}\n",
      "Reward: 0.0, Done: False, Info: {'ale.lives': 4}\n",
      "Reward: 0.0, Done: False, Info: {'ale.lives': 4}\n",
      "Reward: 0.0, Done: False, Info: {'ale.lives': 4}\n",
      "Reward: 0.0, Done: False, Info: {'ale.lives': 4}\n",
      "Reward: 0.0, Done: False, Info: {'ale.lives': 4}\n",
      "Reward: 0.0, Done: False, Info: {'ale.lives': 4}\n",
      "Reward: 0.0, Done: False, Info: {'ale.lives': 4}\n",
      "Reward: 0.0, Done: False, Info: {'ale.lives': 4}\n",
      "Reward: 0.0, Done: False, Info: {'ale.lives': 4}\n",
      "Reward: 0.0, Done: False, Info: {'ale.lives': 4}\n",
      "Reward: 0.0, Done: False, Info: {'ale.lives': 4}\n",
      "Reward: 0.0, Done: False, Info: {'ale.lives': 4}\n",
      "Reward: 0.0, Done: False, Info: {'ale.lives': 4}\n",
      "Reward: 0.0, Done: False, Info: {'ale.lives': 4}\n",
      "Reward: 0.0, Done: False, Info: {'ale.lives': 4}\n",
      "Reward: 0.0, Done: False, Info: {'ale.lives': 4}\n",
      "Reward: 0.0, Done: False, Info: {'ale.lives': 4}\n",
      "Reward: 0.0, Done: False, Info: {'ale.lives': 4}\n",
      "Reward: 0.0, Done: False, Info: {'ale.lives': 4}\n",
      "Reward: 0.0, Done: False, Info: {'ale.lives': 4}\n",
      "Reward: 0.0, Done: False, Info: {'ale.lives': 4}\n",
      "Reward: 0.0, Done: False, Info: {'ale.lives': 4}\n",
      "Reward: 0.0, Done: False, Info: {'ale.lives': 4}\n",
      "Reward: 0.0, Done: False, Info: {'ale.lives': 3}\n",
      "Reward: 0.0, Done: False, Info: {'ale.lives': 3}\n",
      "Reward: 0.0, Done: False, Info: {'ale.lives': 3}\n",
      "Reward: 0.0, Done: False, Info: {'ale.lives': 3}\n",
      "Reward: 0.0, Done: False, Info: {'ale.lives': 3}\n",
      "Reward: 0.0, Done: False, Info: {'ale.lives': 3}\n",
      "Reward: 0.0, Done: False, Info: {'ale.lives': 3}\n",
      "Reward: 0.0, Done: False, Info: {'ale.lives': 3}\n",
      "Reward: 0.0, Done: False, Info: {'ale.lives': 3}\n",
      "Reward: 0.0, Done: False, Info: {'ale.lives': 3}\n",
      "Reward: 0.0, Done: False, Info: {'ale.lives': 3}\n",
      "Reward: 0.0, Done: False, Info: {'ale.lives': 3}\n",
      "Reward: 0.0, Done: False, Info: {'ale.lives': 3}\n",
      "Reward: 0.0, Done: False, Info: {'ale.lives': 3}\n",
      "Reward: 0.0, Done: False, Info: {'ale.lives': 3}\n",
      "Reward: 0.0, Done: False, Info: {'ale.lives': 3}\n",
      "Reward: 0.0, Done: False, Info: {'ale.lives': 3}\n",
      "Reward: 0.0, Done: False, Info: {'ale.lives': 3}\n",
      "Reward: 0.0, Done: False, Info: {'ale.lives': 3}\n",
      "Reward: 0.0, Done: False, Info: {'ale.lives': 3}\n",
      "Reward: 0.0, Done: False, Info: {'ale.lives': 3}\n",
      "Reward: 0.0, Done: False, Info: {'ale.lives': 3}\n",
      "Reward: 0.0, Done: False, Info: {'ale.lives': 3}\n",
      "Reward: 0.0, Done: False, Info: {'ale.lives': 3}\n",
      "Reward: 0.0, Done: False, Info: {'ale.lives': 3}\n",
      "Reward: 0.0, Done: False, Info: {'ale.lives': 3}\n",
      "Reward: 0.0, Done: False, Info: {'ale.lives': 3}\n",
      "Reward: 0.0, Done: False, Info: {'ale.lives': 3}\n"
     ]
    },
    {
     "name": "stdout",
     "output_type": "stream",
     "text": [
      "Reward: 0.0, Done: False, Info: {'ale.lives': 3}\n",
      "Reward: 0.0, Done: False, Info: {'ale.lives': 3}\n",
      "Reward: 0.0, Done: False, Info: {'ale.lives': 3}\n",
      "Reward: 0.0, Done: False, Info: {'ale.lives': 3}\n",
      "Reward: 0.0, Done: False, Info: {'ale.lives': 3}\n",
      "Reward: 0.0, Done: False, Info: {'ale.lives': 3}\n",
      "Reward: 0.0, Done: False, Info: {'ale.lives': 3}\n",
      "Reward: 0.0, Done: False, Info: {'ale.lives': 3}\n",
      "Reward: 0.0, Done: False, Info: {'ale.lives': 3}\n",
      "Reward: 0.0, Done: False, Info: {'ale.lives': 2}\n",
      "Reward: 0.0, Done: False, Info: {'ale.lives': 2}\n",
      "Reward: 0.0, Done: False, Info: {'ale.lives': 2}\n",
      "Reward: 0.0, Done: False, Info: {'ale.lives': 2}\n",
      "Reward: 0.0, Done: False, Info: {'ale.lives': 2}\n",
      "Reward: 0.0, Done: False, Info: {'ale.lives': 2}\n",
      "Reward: 0.0, Done: False, Info: {'ale.lives': 2}\n",
      "Reward: 0.0, Done: False, Info: {'ale.lives': 2}\n",
      "Reward: 0.0, Done: False, Info: {'ale.lives': 2}\n",
      "Reward: 0.0, Done: False, Info: {'ale.lives': 2}\n",
      "Reward: 0.0, Done: False, Info: {'ale.lives': 2}\n",
      "Reward: 0.0, Done: False, Info: {'ale.lives': 2}\n",
      "Reward: 0.0, Done: False, Info: {'ale.lives': 2}\n",
      "Reward: 0.0, Done: False, Info: {'ale.lives': 2}\n",
      "Reward: 0.0, Done: False, Info: {'ale.lives': 2}\n",
      "Reward: 0.0, Done: False, Info: {'ale.lives': 2}\n",
      "Reward: 0.0, Done: False, Info: {'ale.lives': 2}\n",
      "Reward: 0.0, Done: False, Info: {'ale.lives': 2}\n",
      "Reward: 0.0, Done: False, Info: {'ale.lives': 2}\n",
      "Reward: 0.0, Done: False, Info: {'ale.lives': 2}\n",
      "Reward: 0.0, Done: False, Info: {'ale.lives': 2}\n",
      "Reward: 0.0, Done: False, Info: {'ale.lives': 2}\n",
      "Reward: 0.0, Done: False, Info: {'ale.lives': 2}\n",
      "Reward: 0.0, Done: False, Info: {'ale.lives': 2}\n",
      "Reward: 0.0, Done: False, Info: {'ale.lives': 2}\n",
      "Reward: 0.0, Done: False, Info: {'ale.lives': 2}\n",
      "Reward: 0.0, Done: False, Info: {'ale.lives': 2}\n",
      "Reward: 0.0, Done: False, Info: {'ale.lives': 2}\n",
      "Reward: 0.0, Done: False, Info: {'ale.lives': 2}\n",
      "Reward: 0.0, Done: False, Info: {'ale.lives': 2}\n",
      "Reward: 0.0, Done: False, Info: {'ale.lives': 2}\n",
      "Reward: 0.0, Done: False, Info: {'ale.lives': 1}\n",
      "Reward: 0.0, Done: False, Info: {'ale.lives': 1}\n",
      "Reward: 0.0, Done: False, Info: {'ale.lives': 1}\n",
      "Reward: 0.0, Done: False, Info: {'ale.lives': 1}\n",
      "Reward: 0.0, Done: False, Info: {'ale.lives': 1}\n",
      "Reward: 0.0, Done: False, Info: {'ale.lives': 1}\n",
      "Reward: 0.0, Done: False, Info: {'ale.lives': 1}\n",
      "Reward: 0.0, Done: False, Info: {'ale.lives': 1}\n",
      "Reward: 0.0, Done: False, Info: {'ale.lives': 1}\n",
      "Reward: 0.0, Done: False, Info: {'ale.lives': 1}\n",
      "Reward: 0.0, Done: False, Info: {'ale.lives': 1}\n",
      "Reward: 0.0, Done: False, Info: {'ale.lives': 1}\n",
      "Reward: 0.0, Done: False, Info: {'ale.lives': 1}\n",
      "Reward: 0.0, Done: False, Info: {'ale.lives': 1}\n",
      "Reward: 0.0, Done: False, Info: {'ale.lives': 1}\n",
      "Reward: 0.0, Done: False, Info: {'ale.lives': 1}\n",
      "Reward: 0.0, Done: False, Info: {'ale.lives': 1}\n",
      "Reward: 0.0, Done: False, Info: {'ale.lives': 1}\n",
      "Reward: 0.0, Done: False, Info: {'ale.lives': 1}\n",
      "Reward: 0.0, Done: False, Info: {'ale.lives': 1}\n",
      "Reward: 0.0, Done: False, Info: {'ale.lives': 1}\n",
      "Reward: 0.0, Done: False, Info: {'ale.lives': 1}\n",
      "Reward: 0.0, Done: False, Info: {'ale.lives': 1}\n",
      "Reward: 0.0, Done: False, Info: {'ale.lives': 1}\n",
      "Reward: 0.0, Done: False, Info: {'ale.lives': 1}\n",
      "Reward: 0.0, Done: False, Info: {'ale.lives': 1}\n",
      "Reward: 0.0, Done: False, Info: {'ale.lives': 1}\n",
      "Reward: 0.0, Done: False, Info: {'ale.lives': 1}\n",
      "Reward: 0.0, Done: False, Info: {'ale.lives': 1}\n",
      "Reward: 0.0, Done: False, Info: {'ale.lives': 1}\n",
      "Reward: 0.0, Done: False, Info: {'ale.lives': 1}\n",
      "Reward: 0.0, Done: False, Info: {'ale.lives': 1}\n",
      "Reward: 0.0, Done: True, Info: {'ale.lives': 0}\n"
     ]
    }
   ],
   "source": [
    "for _ in range(1000):\n",
    "    env.render(mode=\"human\")  # display the current state\n",
    "    random_action = env.action_space.sample()  # get the random action\n",
    "    observation, reward, done, info = env.step(random_action) # perform the action the current state of the environment\n",
    "    print(f\"Reward: {reward}, Done: {done}, Info: {info}\")\n",
    "    if done:  # with the done variable we can leave the loop if gym notifies us that the game is over\n",
    "        break\n",
    "    time.sleep(0.01)  # slow down the game a bit\n",
    "env.close()  # dont forget to close the environment"
   ]
  },
  {
   "cell_type": "markdown",
   "id": "loving-carnival",
   "metadata": {},
   "source": [
    "As you might have noticed, there are always two versions of an environment:\n",
    "\n",
    "1. RAM Version\n",
    "2. Normal Version / Image based version\n",
    "\n",
    "Those version differ in the observation which gym returns to you. <br />\n",
    "The Ram Version only returns some properties (like the coordinates of the ball), while the normal version returns images (i.e exact the image that render() shows us).\n",
    "\n"
   ]
  },
  {
   "cell_type": "code",
   "execution_count": 13,
   "id": "passing-houston",
   "metadata": {},
   "outputs": [],
   "source": [
    "env_name_ram = \"Breakout-ram-v0\"  # use the RAM version\n",
    "env_ram = gym.make(env_name_ram)  # create the RAM version of the environment"
   ]
  },
  {
   "cell_type": "code",
   "execution_count": 14,
   "id": "closing-gardening",
   "metadata": {},
   "outputs": [],
   "source": [
    "env_ram.render(mode=\"human*\")"
   ]
  },
  {
   "cell_type": "code",
   "execution_count": 15,
   "id": "judicial-population",
   "metadata": {},
   "outputs": [],
   "source": [
    "env_ram.close()"
   ]
  },
  {
   "cell_type": "code",
   "execution_count": 16,
   "id": "acknowledged-accordance",
   "metadata": {},
   "outputs": [
    {
     "data": {
      "text/plain": [
       "(128,)"
      ]
     },
     "execution_count": 16,
     "metadata": {},
     "output_type": "execute_result"
    }
   ],
   "source": [
    "env_ram.reset().shape # you can use the reset function to inspect the initial state of your environment.\n",
    "                      # There are only 128 values instead of the whole image "
   ]
  },
  {
   "cell_type": "code",
   "execution_count": 17,
   "id": "municipal-electric",
   "metadata": {},
   "outputs": [
    {
     "data": {
      "text/plain": [
       "(210, 160, 3)"
      ]
     },
     "execution_count": 17,
     "metadata": {},
     "output_type": "execute_result"
    }
   ],
   "source": [
    "env.reset().shape  # Our original environment returns an image as observation"
   ]
  },
  {
   "cell_type": "markdown",
   "id": "domestic-classification",
   "metadata": {},
   "source": [
    "The next notebooks shows an application, where we can directly use the values the RAM version returns to us to create our first little agent that plays a game for us.\n",
    "\n",
    "Feel free to change the environments in this chapter and try all the available games.\n",
    "What highscores are you able to achieve?"
   ]
  }
 ],
 "metadata": {
  "kernelspec": {
   "display_name": "Python 3 (ipykernel)",
   "language": "python",
   "name": "python3"
  },
  "language_info": {
   "codemirror_mode": {
    "name": "ipython",
    "version": 3
   },
   "file_extension": ".py",
   "mimetype": "text/x-python",
   "name": "python",
   "nbconvert_exporter": "python",
   "pygments_lexer": "ipython3",
   "version": "3.10.4"
  }
 },
 "nbformat": 4,
 "nbformat_minor": 5
}
