{
 "cells": [
  {
   "cell_type": "markdown",
   "metadata": {},
   "source": [
    "# Stop Words\n",
    "Words like \"a\" and \"the\" appear so frequently that they don't require tagging as thoroughly as nouns, verbs and modifiers. We call these *stop words*, and they can be filtered from the text to be processed. spaCy holds a built-in list of some 305 English stop words."
   ]
  },
  {
   "cell_type": "code",
   "execution_count": 1,
   "metadata": {},
   "outputs": [],
   "source": [
    "# Perform standard imports:\n",
    "import spacy\n",
    "nlp = spacy.load('en_core_web_sm')"
   ]
  },
  {
   "cell_type": "code",
   "execution_count": 2,
   "metadata": {},
   "outputs": [
    {
     "name": "stdout",
     "output_type": "stream",
     "text": [
      "{'became', 'herself', 'them', 'someone', 'using', 'part', 'when', 'if', 'quite', 'wherein', 'anyone', 'yourself', 'ours', 'am', 'nobody', 'ten', 'therefore', 'whereafter', 'and', 'myself', 'whence', 'although', 'towards', 'really', 'serious', 'through', 'used', 'will', 'made', 'front', 'under', 'from', 'meanwhile', 'hence', 'against', 'do', 'hereby', 'latterly', 'regarding', 'last', 'been', 'so', 'full', 'some', 'neither', 'hers', 'several', 'she', 'themselves', 'about', 'again', 'because', 'down', 'whereupon', 'therein', 'anything', 'in', 'into', 'but', 'i', 'formerly', 'mostly', 'why', 'every', 'whenever', 'her', 'just', 'less', 'me', 'other', 'otherwise', 'becoming', 'sometime', 'might', 'the', 'thence', 'those', 'unless', 'others', 'what', 'had', 'thus', 'being', 'not', 'only', 'everything', 'becomes', 'more', 'somehow', 'upon', 'still', 'empty', 'nine', 'since', 'then', 'with', 'former', 'nowhere', 'bottom', 'move', 'thereby', 'always', 'they', 'perhaps', 'itself', 'either', 'is', 'another', 'as', 'ourselves', 'enough', 'hundred', 'least', 'rather', 'thereupon', 'done', 'were', 'most', 'behind', 'up', 'thereafter', 'twenty', 'such', 'who', 'beside', 'never', 'call', 'any', 'does', 'our', 'fifteen', 'have', 'should', 'everywhere', 'besides', 'among', 'everyone', 'how', 'six', 'without', 'beforehand', 'before', 'nevertheless', 'third', 'whom', 'along', 'seemed', 'between', 'amount', 'could', 'make', 'once', 'anywhere', 'where', 'five', 'cannot', 'over', 'same', 'seem', 'twelve', 'yet', 'this', 'back', 'moreover', 'out', 'sixty', 'else', 'nothing', 'an', 'whether', 'around', 'hereupon', 'himself', 'go', 'both', 'to', 'above', 'within', 'his', 're', 'also', 'or', 'due', 'get', 'here', 'whereby', 'you', 'namely', 'seeming', 'something', 'by', 'further', 'eight', 'yours', 'after', 'keep', 'doing', 'now', 'own', 'name', 'ca', 'whoever', 'forty', 'somewhere', 'become', 'sometimes', 'though', 'of', 'please', 'did', 'until', 'per', 'all', 'are', 'often', 'these', 'my', 'well', 'afterwards', 'each', 'yourselves', 'it', 'put', 'than', 'no', 'beyond', 'throughout', 'few', 'onto', 'herein', 'ever', 'its', 'off', 'too', 'amongst', 'would', 'indeed', 'which', 'many', 'latter', 'below', 'say', 'that', 'for', 'top', 'us', 'toward', 'anyhow', 'was', 'while', 'two', 'one', 'various', 'already', 'we', 'a', 'mine', 'none', 'on', 'see', 'much', 'may', 'almost', 'very', 'even', 'whole', 'four', 'whose', 'there', 'elsewhere', 'alone', 'whatever', 'at', 'he', 'noone', 'must', 'seems', 'take', 'three', 'together', 'whereas', 'nor', 'via', 'first', 'thru', 'has', 'show', 'hereafter', 'wherever', 'your', 'side', 'whither', 'give', 'fifty', 'their', 'during', 'eleven', 'him', 'across', 'can', 'however', 'next', 'be', 'except', 'anyway'}\n"
     ]
    }
   ],
   "source": [
    "# Print the set of spaCy's default stop words (remember that sets are unordered):\n",
    "print(nlp.Defaults.stop_words)"
   ]
  },
  {
   "cell_type": "code",
   "execution_count": 3,
   "metadata": {},
   "outputs": [
    {
     "data": {
      "text/plain": [
       "305"
      ]
     },
     "execution_count": 3,
     "metadata": {},
     "output_type": "execute_result"
    }
   ],
   "source": [
    "len(nlp.Defaults.stop_words)"
   ]
  },
  {
   "cell_type": "markdown",
   "metadata": {},
   "source": [
    "## To see if a word is a stop word"
   ]
  },
  {
   "cell_type": "code",
   "execution_count": 4,
   "metadata": {},
   "outputs": [
    {
     "data": {
      "text/plain": [
       "True"
      ]
     },
     "execution_count": 4,
     "metadata": {},
     "output_type": "execute_result"
    }
   ],
   "source": [
    "nlp.vocab['myself'].is_stop"
   ]
  },
  {
   "cell_type": "code",
   "execution_count": 5,
   "metadata": {},
   "outputs": [
    {
     "data": {
      "text/plain": [
       "False"
      ]
     },
     "execution_count": 5,
     "metadata": {},
     "output_type": "execute_result"
    }
   ],
   "source": [
    "nlp.vocab['mystery'].is_stop"
   ]
  },
  {
   "cell_type": "markdown",
   "metadata": {},
   "source": [
    "## To add a stop word\n",
    "There may be times when you wish to add a stop word to the default set. Perhaps you decide that `'btw'` (common shorthand for \"by the way\") should be considered a stop word."
   ]
  },
  {
   "cell_type": "code",
   "execution_count": 6,
   "metadata": {},
   "outputs": [],
   "source": [
    "# Add the word to the set of stop words. Use lowercase!\n",
    "nlp.Defaults.stop_words.add('btw')\n",
    "\n",
    "# Set the stop_word tag on the lexeme\n",
    "nlp.vocab['btw'].is_stop = True"
   ]
  },
  {
   "cell_type": "code",
   "execution_count": 7,
   "metadata": {},
   "outputs": [
    {
     "data": {
      "text/plain": [
       "306"
      ]
     },
     "execution_count": 7,
     "metadata": {},
     "output_type": "execute_result"
    }
   ],
   "source": [
    "len(nlp.Defaults.stop_words)"
   ]
  },
  {
   "cell_type": "code",
   "execution_count": 8,
   "metadata": {},
   "outputs": [
    {
     "data": {
      "text/plain": [
       "True"
      ]
     },
     "execution_count": 8,
     "metadata": {},
     "output_type": "execute_result"
    }
   ],
   "source": [
    "nlp.vocab['btw'].is_stop"
   ]
  },
  {
   "cell_type": "markdown",
   "metadata": {},
   "source": [
    "<font color=green>When adding stop words, always use lowercase. Lexemes are converted to lowercase before being added to **vocab**.</font>"
   ]
  },
  {
   "cell_type": "markdown",
   "metadata": {},
   "source": [
    "## To remove a stop word\n",
    "Alternatively, you may decide that `'beyond'` should not be considered a stop word."
   ]
  },
  {
   "cell_type": "code",
   "execution_count": 9,
   "metadata": {},
   "outputs": [],
   "source": [
    "# Remove the word from the set of stop words\n",
    "nlp.Defaults.stop_words.remove('beyond')\n",
    "\n",
    "# Remove the stop_word tag from the lexeme\n",
    "nlp.vocab['beyond'].is_stop = False"
   ]
  },
  {
   "cell_type": "code",
   "execution_count": 10,
   "metadata": {},
   "outputs": [
    {
     "data": {
      "text/plain": [
       "305"
      ]
     },
     "execution_count": 10,
     "metadata": {},
     "output_type": "execute_result"
    }
   ],
   "source": [
    "len(nlp.Defaults.stop_words)"
   ]
  },
  {
   "cell_type": "code",
   "execution_count": 11,
   "metadata": {},
   "outputs": [
    {
     "data": {
      "text/plain": [
       "False"
      ]
     },
     "execution_count": 11,
     "metadata": {},
     "output_type": "execute_result"
    }
   ],
   "source": [
    "nlp.vocab['beyond'].is_stop"
   ]
  },
  {
   "cell_type": "markdown",
   "metadata": {},
   "source": [
    "Great! Now you should be able to access spaCy's default set of stop words, and add or remove stop words as needed."
   ]
  }
 ],
 "metadata": {
  "kernelspec": {
   "display_name": "Python 3 (ipykernel)",
   "language": "python",
   "name": "python3"
  },
  "language_info": {
   "codemirror_mode": {
    "name": "ipython",
    "version": 3
   },
   "file_extension": ".py",
   "mimetype": "text/x-python",
   "name": "python",
   "nbconvert_exporter": "python",
   "pygments_lexer": "ipython3",
   "version": "3.7.13"
  }
 },
 "nbformat": 4,
 "nbformat_minor": 2
}
